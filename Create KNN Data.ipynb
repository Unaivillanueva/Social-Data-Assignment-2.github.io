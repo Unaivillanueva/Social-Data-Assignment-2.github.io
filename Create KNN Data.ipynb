{
 "cells": [
  {
   "cell_type": "code",
   "execution_count": 1,
   "metadata": {
    "collapsed": true,
    "deletable": true,
    "editable": true
   },
   "outputs": [],
   "source": [
    "import geoplotlib\n",
    "import csv\n",
    "from collections import defaultdict\n",
    "prost_data = defaultdict(list)\n",
    "\n",
    "infile = open(\"../SFPD.csv\", 'r')\n",
    "reader = csv.reader(infile)\n",
    "next(reader)\n",
    "for row in reader:\n",
    "    if row[-3] != '90': # Data without location\n",
    "        if row[1] == 'PROSTITUTION':\n",
    "            prost_data['lon'].append(float(row[-4]))\n",
    "            prost_data['lat'].append(float(row[-3]))\n",
    "\n",
    "i = 0\n",
    "prost_data_cluster = []\n",
    "for i in range(len(prost_data['lon'])):\n",
    "    prost_data_cluster.append([prost_data['lon'][i], prost_data['lat'][i]])"
   ]
  },
  {
   "cell_type": "code",
   "execution_count": 9,
   "metadata": {
    "collapsed": false,
    "deletable": true,
    "editable": true
   },
   "outputs": [],
   "source": [
    "from sklearn.cluster import KMeans\n",
    "clusters = []\n",
    "for k in range(2, 7):\n",
    "    cls = KMeans(n_clusters=k)\n",
    "    cls.fit(prost_data_cluster)\n",
    "    clusters.append(cls)"
   ]
  },
  {
   "cell_type": "code",
   "execution_count": null,
   "metadata": {
    "collapsed": false,
    "deletable": true,
    "editable": true
   },
   "outputs": [],
   "source": [
    "# Export: list of [point_x, point_y, label_2means,label_3means]\n",
    "export_data = []\n",
    "for i in range(len(prost_data_cluster)):\n",
    "    export_data.append([prost_data_cluster[i][0], prost_data_cluster[i][1], clusters[0].labels_[i], clusters[1].labels_[i], clusters[2].labels_[i], clusters[3].labels_[i], clusters[4].labels_[i]])\n",
    "    \n",
    "export_data_centers = [list(cls.cluster_centers_) for cls in clusters]\n",
    "\n",
    "export_json = {'centers': export_data_centers, 'data': export_data}\n",
    "import json\n",
    "with open('data.json', 'w') as outfile:\n",
    "    json.dump(export_json, outfile)"
   ]
  },
  {
   "cell_type": "code",
   "execution_count": null,
   "metadata": {
    "collapsed": true,
    "deletable": true,
    "editable": true
   },
   "outputs": [],
   "source": []
  }
 ],
 "metadata": {
  "kernelspec": {
   "display_name": "Python [conda root]",
   "language": "python",
   "name": "conda-root-py"
  },
  "language_info": {
   "codemirror_mode": {
    "name": "ipython",
    "version": 2
   },
   "file_extension": ".py",
   "mimetype": "text/x-python",
   "name": "python",
   "nbconvert_exporter": "python",
   "pygments_lexer": "ipython2",
   "version": "2.7.13"
  }
 },
 "nbformat": 4,
 "nbformat_minor": 2
}
